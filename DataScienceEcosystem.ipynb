{
 "cells": [
  {
   "cell_type": "markdown",
   "id": "f5e14325-4fa9-4ea3-b7c1-927de1a22a25",
   "metadata": {},
   "source": [
    "# Data Science Tools and Ecosystem"
   ]
  },
  {
   "cell_type": "markdown",
   "id": "a29255ba-3c2b-4746-bd13-321a1bfc3983",
   "metadata": {},
   "source": [
    "In this notebook, Data Science Tools and Ecosystem are summarized"
   ]
  },
  {
   "cell_type": "markdown",
   "id": "aa654b0d-fd7c-413b-bf67-2d82e0bea308",
   "metadata": {},
   "source": [
    "**Objectives**\n",
    "* List popular languages for Data science\n",
    "* List commonly used libraries in Data science\n",
    "* List tools used in Data science\n",
    "* Learn arithmetic expressions in python\n"
   ]
  },
  {
   "cell_type": "markdown",
   "id": "ca4dae53-e61d-4561-9731-0ddeaf384923",
   "metadata": {},
   "source": [
    "Some of the popular languages that Data scientist use are:\n",
    "1. python\n",
    "2. R\n",
    "3. C++\n",
    "4. Julia\n",
    "5. Scala"
   ]
  },
  {
   "cell_type": "markdown",
   "id": "c7b48b75-8f68-4f28-b732-19ad0cedd4a8",
   "metadata": {},
   "source": [
    "Some of the commonly used libraries used by Data scientists include:\n",
    "1. Pandas\n",
    "2. Numpy\n",
    "3. Matplotlib\n",
    "4. Seaborn\n",
    "5. Scikit Learn\n",
    "6. Keras"
   ]
  },
  {
   "cell_type": "markdown",
   "id": "8d095b70-da0e-4bc7-b8f9-73837e818e5c",
   "metadata": {
    "tags": []
   },
   "source": [
    "|Data Science tools|\n",
    "--------------------\n",
    "|My SQL|\n",
    "|MongoDB|\n",
    "|Hadoop|\n",
    "|Apache CouchDB|\n",
    "|Apache Cassandra|"
   ]
  },
  {
   "cell_type": "markdown",
   "id": "50373e13-3b89-4f4f-a3ec-25c5e1c401c2",
   "metadata": {},
   "source": [
    "### Below are a few examples of evaluating arithmetic expressions in python "
   ]
  },
  {
   "cell_type": "markdown",
   "id": "460caaa1-8743-44b6-bb1c-aa51d895489c",
   "metadata": {},
   "source": [
    "This is a simple arithmetic expression to multiply then add integers"
   ]
  },
  {
   "cell_type": "code",
   "execution_count": 2,
   "id": "959035cd-258a-43ec-8ff5-c5693150d07e",
   "metadata": {
    "tags": []
   },
   "outputs": [
    {
     "data": {
      "text/plain": [
       "17"
      ]
     },
     "execution_count": 2,
     "metadata": {},
     "output_type": "execute_result"
    }
   ],
   "source": [
    "3*4+5\n"
   ]
  },
  {
   "cell_type": "markdown",
   "id": "48e544e2-3ada-4113-869b-37dd1ea2e99c",
   "metadata": {},
   "source": [
    "This will convert 200 minutes to hours by dividing by 60"
   ]
  },
  {
   "cell_type": "code",
   "execution_count": 3,
   "id": "8df506be-bbaf-46bb-b4d1-6e05893c6e51",
   "metadata": {
    "tags": []
   },
   "outputs": [
    {
     "data": {
      "text/plain": [
       "3.3333333333333335"
      ]
     },
     "execution_count": 3,
     "metadata": {},
     "output_type": "execute_result"
    }
   ],
   "source": [
    "200/60"
   ]
  },
  {
   "cell_type": "markdown",
   "id": "07bc0faa-ddaf-45c9-9406-ba3f83a7b333",
   "metadata": {},
   "source": [
    "## Author\n",
    "Benly Babu"
   ]
  },
  {
   "cell_type": "code",
   "execution_count": null,
   "id": "7bad0851-de8f-4b34-8f7a-18704bf2977b",
   "metadata": {},
   "outputs": [],
   "source": []
  }
 ],
 "metadata": {
  "kernelspec": {
   "display_name": "Python",
   "language": "python",
   "name": "conda-env-python-py"
  },
  "language_info": {
   "codemirror_mode": {
    "name": "ipython",
    "version": 3
   },
   "file_extension": ".py",
   "mimetype": "text/x-python",
   "name": "python",
   "nbconvert_exporter": "python",
   "pygments_lexer": "ipython3",
   "version": "3.7.12"
  }
 },
 "nbformat": 4,
 "nbformat_minor": 5
}
